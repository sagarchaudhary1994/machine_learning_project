{
 "cells": [
  {
   "cell_type": "code",
   "execution_count": 1,
   "metadata": {},
   "outputs": [
    {
     "data": {
      "text/plain": [
       "'C:\\\\Users\\\\sagar\\\\repos\\\\machine_learning_project\\\\config\\\\model.yaml'"
      ]
     },
     "execution_count": 1,
     "metadata": {},
     "output_type": "execute_result"
    }
   ],
   "source": [
    "from housing.entity.model_factory import ModelFactory,get_sample_model_config_yaml_file\n",
    "model_yaml_file_path = \"C:\\\\Users\\\\sagar\\\\repos\\\\machine_learning_project\\\\config\"\n",
    "get_sample_model_config_yaml_file(model_yaml_file_path)"
   ]
  },
  {
   "cell_type": "code",
   "execution_count": null,
   "metadata": {},
   "outputs": [],
   "source": []
  }
 ],
 "metadata": {
  "kernelspec": {
   "display_name": "Python 3.7.0 (conda)",
   "language": "python",
   "name": "python3"
  },
  "language_info": {
   "codemirror_mode": {
    "name": "ipython",
    "version": 3
   },
   "file_extension": ".py",
   "mimetype": "text/x-python",
   "name": "python",
   "nbconvert_exporter": "python",
   "pygments_lexer": "ipython3",
   "version": "3.7.0"
  },
  "orig_nbformat": 4,
  "vscode": {
   "interpreter": {
    "hash": "8e36630e13a67b4122e760547f3bbd946335533ac774562ffad0e9ade850ecb2"
   }
  }
 },
 "nbformat": 4,
 "nbformat_minor": 2
}
